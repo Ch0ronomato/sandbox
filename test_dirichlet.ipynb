{
 "metadata": {
  "name": "",
  "signature": "sha256:ea98dc20ff536055af1639860d03bbd4f78df8187b411be60e069b85af04c959"
 },
 "nbformat": 3,
 "nbformat_minor": 0,
 "worksheets": [
  {
   "cells": [
    {
     "cell_type": "code",
     "collapsed": false,
     "input": [
      "%pylab inline\n",
      "import pandas as pd\n",
      "import numpy as np\n",
      "from sklearn import mixture\n",
      "import matplotlib.pyplot as plt\n",
      "import itertools"
     ],
     "language": "python",
     "metadata": {},
     "outputs": [
      {
       "output_type": "stream",
       "stream": "stdout",
       "text": [
        "Populating the interactive namespace from numpy and matplotlib\n"
       ]
      }
     ],
     "prompt_number": 234
    },
    {
     "cell_type": "code",
     "collapsed": false,
     "input": [
      "X1 = np.random.normal(loc = 0, scale = 0.4, size = 100)\n",
      "X1.shape = (50, 2)\n",
      "X2 = np.random.normal(loc = 3.5, scale = 0.4, size = 100)\n",
      "X2.shape = (50, 2)\n",
      "X3 = np.random.normal(loc = 6, scale = 0.4, size = 100)\n",
      "X3.shape = (50, 2)\n",
      "fake_data = np.vstack([X1, X2, X3])"
     ],
     "language": "python",
     "metadata": {},
     "outputs": [],
     "prompt_number": 447
    },
    {
     "cell_type": "code",
     "collapsed": false,
     "input": [
      "plt.scatter(fake_data[:,0], fake_data[:, 1])"
     ],
     "language": "python",
     "metadata": {},
     "outputs": [
      {
       "metadata": {},
       "output_type": "pyout",
       "prompt_number": 448,
       "text": [
        "<matplotlib.collections.PathCollection at 0x10f24a0d0>"
       ]
      },
      {
       "metadata": {},
       "output_type": "display_data",
       "png": "[encoded data removed]",
       "text": [
        "<matplotlib.figure.Figure at 0x10f2b3110>"
       ]
      }
     ],
     "prompt_number": 448
    },
    {
     "cell_type": "code",
     "collapsed": false,
     "input": [
      "dp_fit = mixture.DPGMM(covariance_type = 'full', n_components = 5, alpha = 300, thresh=1)\n",
      "dp_fit.fit(fake_data)"
     ],
     "language": "python",
     "metadata": {},
     "outputs": [
      {
       "metadata": {},
       "output_type": "pyout",
       "prompt_number": 449,
       "text": [
        "DPGMM(alpha=300, covariance_type='full', init_params='wmc', min_covar=None,\n",
        "   n_components=5, n_iter=10, params='wmc',\n",
        "   random_state=<mtrand.RandomState object at 0x104da9f50>, thresh=1,\n",
        "   verbose=False)"
       ]
      }
     ],
     "prompt_number": 449
    },
    {
     "cell_type": "code",
     "collapsed": false,
     "input": [
      "pr_data = dp_fit.predict(fake_data)\n",
      "set(pr_data)"
     ],
     "language": "python",
     "metadata": {},
     "outputs": [
      {
       "metadata": {},
       "output_type": "pyout",
       "prompt_number": 450,
       "text": [
        "{0, 1, 3}"
       ]
      }
     ],
     "prompt_number": 450
    },
    {
     "cell_type": "code",
     "collapsed": false,
     "input": [
      "dp_fit.weights_[0:10]"
     ],
     "language": "python",
     "metadata": {},
     "outputs": [
      {
       "metadata": {},
       "output_type": "pyout",
       "prompt_number": 451,
       "text": [
        "array([ 0.28520106,  0.33172132,  0.00820339,  0.3653075 ,  0.00956673])"
       ]
      }
     ],
     "prompt_number": 451
    },
    {
     "cell_type": "code",
     "collapsed": false,
     "input": [
      "probs_frame = pd.DataFrame(dp_fit.predict_proba(fake_data))"
     ],
     "language": "python",
     "metadata": {},
     "outputs": [],
     "prompt_number": 452
    },
    {
     "cell_type": "code",
     "collapsed": false,
     "input": [
      "pd.DataFrame.head(probs_frame)"
     ],
     "language": "python",
     "metadata": {},
     "outputs": [
      {
       "html": [
        "<div style=\"max-height:1000px;max-width:1500px;overflow:auto;\">\n",
        "<table border=\"1\" class=\"dataframe\">\n",
        "  <thead>\n",
        "    <tr style=\"text-align: right;\">\n",
        "      <th></th>\n",
        "      <th>0</th>\n",
        "      <th>1</th>\n",
        "      <th>2</th>\n",
        "      <th>3</th>\n",
        "      <th>4</th>\n",
        "    </tr>\n",
        "  </thead>\n",
        "  <tbody>\n",
        "    <tr>\n",
        "      <th>0</th>\n",
        "      <td> 0.000059</td>\n",
        "      <td> 0</td>\n",
        "      <td> 0.000064</td>\n",
        "      <td> 0.999813</td>\n",
        "      <td> 0.000064</td>\n",
        "    </tr>\n",
        "    <tr>\n",
        "      <th>1</th>\n",
        "      <td> 0.000065</td>\n",
        "      <td> 0</td>\n",
        "      <td> 0.000064</td>\n",
        "      <td> 0.999806</td>\n",
        "      <td> 0.000065</td>\n",
        "    </tr>\n",
        "    <tr>\n",
        "      <th>2</th>\n",
        "      <td> 0.000011</td>\n",
        "      <td> 0</td>\n",
        "      <td> 0.000042</td>\n",
        "      <td> 0.999904</td>\n",
        "      <td> 0.000043</td>\n",
        "    </tr>\n",
        "    <tr>\n",
        "      <th>3</th>\n",
        "      <td> 0.000126</td>\n",
        "      <td> 0</td>\n",
        "      <td> 0.000055</td>\n",
        "      <td> 0.999764</td>\n",
        "      <td> 0.000055</td>\n",
        "    </tr>\n",
        "    <tr>\n",
        "      <th>4</th>\n",
        "      <td> 0.000142</td>\n",
        "      <td> 0</td>\n",
        "      <td> 0.000033</td>\n",
        "      <td> 0.999791</td>\n",
        "      <td> 0.000034</td>\n",
        "    </tr>\n",
        "  </tbody>\n",
        "</table>\n",
        "</div>"
       ],
       "metadata": {},
       "output_type": "pyout",
       "prompt_number": 453,
       "text": [
        "          0  1         2         3         4\n",
        "0  0.000059  0  0.000064  0.999813  0.000064\n",
        "1  0.000065  0  0.000064  0.999806  0.000065\n",
        "2  0.000011  0  0.000042  0.999904  0.000043\n",
        "3  0.000126  0  0.000055  0.999764  0.000055\n",
        "4  0.000142  0  0.000033  0.999791  0.000034"
       ]
      }
     ],
     "prompt_number": 453
    },
    {
     "cell_type": "code",
     "collapsed": false,
     "input": [
      "col = [['r', 'b', 'm', 'c', 'g'][i] for i in pr_data]\n",
      "for i in range(fake_data.shape[0]):\n",
      "    plt.scatter(fake_data[i, 0], fake_data[i, 1], color = col[i])"
     ],
     "language": "python",
     "metadata": {},
     "outputs": [
      {
       "metadata": {},
       "output_type": "display_data",
       "png": "[encoded data removed]",
       "text": [
        "<matplotlib.figure.Figure at 0x10f1bb950>"
       ]
      }
     ],
     "prompt_number": 454
    },
    {
     "cell_type": "code",
     "collapsed": false,
     "input": [],
     "language": "python",
     "metadata": {},
     "outputs": [],
     "prompt_number": 432
    },
    {
     "cell_type": "code",
     "collapsed": false,
     "input": [],
     "language": "python",
     "metadata": {},
     "outputs": []
    }
   ],
   "metadata": {}
  }
 ]
}