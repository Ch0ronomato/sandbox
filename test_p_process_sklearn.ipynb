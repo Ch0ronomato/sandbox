{
 "metadata": {
  "name": "",
  "signature": "sha256:1b212f36255e1c0ab197afbb05af038406cb52ad9cbdbb55cca0363f07049639"
 },
 "nbformat": 3,
 "nbformat_minor": 0,
 "worksheets": [
  {
   "cells": [
    {
     "cell_type": "code",
     "collapsed": false,
     "input": [
      "%pylab inline\n",
      "import numpy as np\n",
      "from sklearn import mixture\n",
      "import matplotlib.pyplot as plt\n",
      "import pandas as pd"
     ],
     "language": "python",
     "metadata": {},
     "outputs": [
      {
       "output_type": "stream",
       "stream": "stdout",
       "text": [
        "Populating the interactive namespace from numpy and matplotlib\n"
       ]
      }
     ],
     "prompt_number": 65
    },
    {
     "cell_type": "code",
     "collapsed": false,
     "input": [
      "X1 = np.random.normal(loc = 1, scale = 0.5, size = 100)\n",
      "X1.shape = (50, 2)\n",
      "X2 = np.random.normal(loc = 3, scale = 0.5, size = 100)\n",
      "X2.shape = (50, 2)\n",
      "f_data = np.array(np.vstack([X1, X2]))\n",
      "\n",
      "n_samples = 500\n",
      "\n",
      "# Generate random sample, two components\n",
      "np.random.seed(0)\n",
      "C = np.array([[0., -0.1], [1.7, .4]])\n",
      "\n",
      "X = np.r_[np.dot(np.random.randn(n_samples, 2), C), .7 * np.random.randn(n_samples, 2) + np.array([-6, 3])]"
     ],
     "language": "python",
     "metadata": {},
     "outputs": [],
     "prompt_number": 86
    },
    {
     "cell_type": "code",
     "collapsed": false,
     "input": [
      "plt.scatter(f_data[:, 0 ], f_data[:, 1])"
     ],
     "language": "python",
     "metadata": {},
     "outputs": [
      {
       "metadata": {},
       "output_type": "pyout",
       "prompt_number": 87,
       "text": [
        "<matplotlib.collections.PathCollection at 0x10e6c28d0>"
       ]
      },
      {
       "metadata": {},
       "output_type": "display_data",
       "png": "[encoded data removed]",
       "text": [
        "<matplotlib.figure.Figure at 0x10e5d2050>"
       ]
      }
     ],
     "prompt_number": 87
    },
    {
     "cell_type": "code",
     "collapsed": false,
     "input": [
      "dp_model = mixture.DPGMM(n_components=5, covariance_type='full')\n",
      "dp_model.fit(f_data)"
     ],
     "language": "python",
     "metadata": {},
     "outputs": [
      {
       "metadata": {},
       "output_type": "pyout",
       "prompt_number": 88,
       "text": [
        "DPGMM(alpha=1.0, covariance_type='full', init_params='wmc', min_covar=None,\n",
        "   n_components=5, n_iter=10, params='wmc',\n",
        "   random_state=<mtrand.RandomState object at 0x1071b4450>, thresh=0.01,\n",
        "   verbose=False)"
       ]
      }
     ],
     "prompt_number": 88
    },
    {
     "cell_type": "code",
     "collapsed": false,
     "input": [
      "pred_data = dp_model.predict(f_data)\n",
      "print set(pred_data)"
     ],
     "language": "python",
     "metadata": {},
     "outputs": [
      {
       "output_type": "stream",
       "stream": "stdout",
       "text": [
        "set([1])\n"
       ]
      }
     ],
     "prompt_number": 89
    },
    {
     "cell_type": "code",
     "collapsed": false,
     "input": [
      "colours = ['r', 'c', 'g', 'b', 'm']"
     ],
     "language": "python",
     "metadata": {},
     "outputs": [],
     "prompt_number": 90
    },
    {
     "cell_type": "code",
     "collapsed": false,
     "input": [
      "for i in range(len(pred_data)):\n",
      "    plt.scatter(f_data[i, 0], f_data[i, 1], c = colours[pred_data[i]])"
     ],
     "language": "python",
     "metadata": {},
     "outputs": [
      {
       "metadata": {},
       "output_type": "display_data",
       "png": "[encoded data removed]",
       "text": [
        "<matplotlib.figure.Figure at 0x10e6e4810>"
       ]
      }
     ],
     "prompt_number": 91
    },
    {
     "cell_type": "code",
     "collapsed": false,
     "input": [
      "probs_data = pd.DataFrame(dp_model.predict_proba(f_data))"
     ],
     "language": "python",
     "metadata": {},
     "outputs": [],
     "prompt_number": 92
    },
    {
     "cell_type": "code",
     "collapsed": false,
     "input": [
      "plt.pcolor(probs_data)"
     ],
     "language": "python",
     "metadata": {},
     "outputs": [
      {
       "metadata": {},
       "output_type": "pyout",
       "prompt_number": 94,
       "text": [
        "<matplotlib.collections.PolyCollection at 0x10c1becd0>"
       ]
      },
      {
       "metadata": {},
       "output_type": "display_data",
       "png": "[encoded data removed]",
       "text": [
        "<matplotlib.figure.Figure at 0x10c49bb90>"
       ]
      }
     ],
     "prompt_number": 94
    },
    {
     "cell_type": "code",
     "collapsed": false,
     "input": [
      "colmeans = [np.mean(probs_data.ix[:, i]) for i in range(probs_data.shape[1])]"
     ],
     "language": "python",
     "metadata": {},
     "outputs": [],
     "prompt_number": 101
    },
    {
     "cell_type": "code",
     "collapsed": false,
     "input": [
      "colmeans"
     ],
     "language": "python",
     "metadata": {},
     "outputs": [
      {
       "metadata": {},
       "output_type": "pyout",
       "prompt_number": 102,
       "text": [
        "[0.00010558942025222245,\n",
        " 0.99984746810799952,\n",
        " 3.1528504873106741e-05,\n",
        " 1.1253626893641326e-05,\n",
        " 4.1603399816349527e-06]"
       ]
      }
     ],
     "prompt_number": 102
    },
    {
     "cell_type": "code",
     "collapsed": false,
     "input": [],
     "language": "python",
     "metadata": {},
     "outputs": []
    }
   ],
   "metadata": {}
  }
 ]
}