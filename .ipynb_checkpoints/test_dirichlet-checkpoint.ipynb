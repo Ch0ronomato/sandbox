{
 "metadata": {
  "name": "",
  "signature": "sha256:a8332b3eaf1d1bad56f623882d35cc529026515c632b1aac77b8436c1e3adefa"
 },
 "nbformat": 3,
 "nbformat_minor": 0,
 "worksheets": [
  {
   "cells": [
    {
     "cell_type": "code",
     "collapsed": false,
     "input": [
      "%pylab inline\n",
      "import pandas as pd\n",
      "import numpy as np\n",
      "from sklearn import mixture\n",
      "import matplotlib.pyplot as plt\n",
      "import itertools"
     ],
     "language": "python",
     "metadata": {},
     "outputs": [
      {
       "output_type": "stream",
       "stream": "stdout",
       "text": [
        "Populating the interactive namespace from numpy and matplotlib\n"
       ]
      }
     ],
     "prompt_number": 234
    },
    {
     "cell_type": "code",
     "collapsed": false,
     "input": [
      "X1 = np.random.normal(loc = 0, scale = 0.3, size = 100)\n",
      "X1.shape = (50, 2)\n",
      "X2 = np.random.normal(loc = 3, scale = 0.3, size = 100)\n",
      "X2.shape = (50, 2)\n",
      "fake_data = np.vstack([X1, X2])"
     ],
     "language": "python",
     "metadata": {},
     "outputs": [],
     "prompt_number": 341
    },
    {
     "cell_type": "code",
     "collapsed": false,
     "input": [
      "plt.scatter(fake_data[:,0], fake_data[:, 1])"
     ],
     "language": "python",
     "metadata": {},
     "outputs": [
      {
       "metadata": {},
       "output_type": "pyout",
       "prompt_number": 349,
       "text": [
        "<matplotlib.collections.PathCollection at 0x10d3e5d90>"
       ]
      },
      {
       "metadata": {},
       "output_type": "display_data",
       "png": "[encoded data removed]",
       "text": [
        "<matplotlib.figure.Figure at 0x10d050950>"
       ]
      }
     ],
     "prompt_number": 349
    },
    {
     "cell_type": "code",
     "collapsed": false,
     "input": [
      "dp_fit = mixture.DPGMM(covariance_type = 'full', n_components = 5)\n",
      "dp_fit.fit(fake_data)"
     ],
     "language": "python",
     "metadata": {},
     "outputs": [
      {
       "metadata": {},
       "output_type": "pyout",
       "prompt_number": 350,
       "text": [
        "DPGMM(alpha=1.0, covariance_type='full', init_params='wmc', min_covar=None,\n",
        "   n_components=5, n_iter=10, params='wmc',\n",
        "   random_state=<mtrand.RandomState object at 0x104da9f50>, thresh=0.01,\n",
        "   verbose=False)"
       ]
      }
     ],
     "prompt_number": 350
    },
    {
     "cell_type": "code",
     "collapsed": false,
     "input": [
      "pr_data = dp_fit.predict(fake_data)\n",
      "set(pr_data)"
     ],
     "language": "python",
     "metadata": {},
     "outputs": [
      {
       "metadata": {},
       "output_type": "pyout",
       "prompt_number": 351,
       "text": [
        "{0, 2}"
       ]
      }
     ],
     "prompt_number": 351
    },
    {
     "cell_type": "code",
     "collapsed": false,
     "input": [
      "dp_fit.weights_[0:10]"
     ],
     "language": "python",
     "metadata": {},
     "outputs": [
      {
       "metadata": {},
       "output_type": "pyout",
       "prompt_number": 352,
       "text": [
        "array([ 0.18021115,  0.01038144,  0.26819106,  0.26846055,  0.2727558 ])"
       ]
      }
     ],
     "prompt_number": 352
    },
    {
     "cell_type": "code",
     "collapsed": false,
     "input": [
      "probs_frame = pd.DataFrame(dp_fit.predict_proba(fake_data))"
     ],
     "language": "python",
     "metadata": {},
     "outputs": [],
     "prompt_number": 353
    },
    {
     "cell_type": "code",
     "collapsed": false,
     "input": [
      "pd.DataFrame.head(probs_frame)"
     ],
     "language": "python",
     "metadata": {},
     "outputs": [
      {
       "html": [
        "<div style=\"max-height:1000px;max-width:1500px;overflow:auto;\">\n",
        "<table border=\"1\" class=\"dataframe\">\n",
        "  <thead>\n",
        "    <tr style=\"text-align: right;\">\n",
        "      <th></th>\n",
        "      <th>0</th>\n",
        "      <th>1</th>\n",
        "      <th>2</th>\n",
        "      <th>3</th>\n",
        "      <th>4</th>\n",
        "    </tr>\n",
        "  </thead>\n",
        "  <tbody>\n",
        "    <tr>\n",
        "      <th>0</th>\n",
        "      <td> 0.000115</td>\n",
        "      <td> 0.000099</td>\n",
        "      <td> 0.996961</td>\n",
        "      <td> 0.002142</td>\n",
        "      <td> 0.000683</td>\n",
        "    </tr>\n",
        "    <tr>\n",
        "      <th>1</th>\n",
        "      <td> 0.000143</td>\n",
        "      <td> 0.000106</td>\n",
        "      <td> 0.996705</td>\n",
        "      <td> 0.002310</td>\n",
        "      <td> 0.000736</td>\n",
        "    </tr>\n",
        "    <tr>\n",
        "      <th>2</th>\n",
        "      <td> 0.000048</td>\n",
        "      <td> 0.000082</td>\n",
        "      <td> 0.997471</td>\n",
        "      <td> 0.001830</td>\n",
        "      <td> 0.000570</td>\n",
        "    </tr>\n",
        "    <tr>\n",
        "      <th>3</th>\n",
        "      <td> 0.000050</td>\n",
        "      <td> 0.000081</td>\n",
        "      <td> 0.997462</td>\n",
        "      <td> 0.001838</td>\n",
        "      <td> 0.000569</td>\n",
        "    </tr>\n",
        "    <tr>\n",
        "      <th>4</th>\n",
        "      <td> 0.000088</td>\n",
        "      <td> 0.000104</td>\n",
        "      <td> 0.996810</td>\n",
        "      <td> 0.002275</td>\n",
        "      <td> 0.000723</td>\n",
        "    </tr>\n",
        "  </tbody>\n",
        "</table>\n",
        "</div>"
       ],
       "metadata": {},
       "output_type": "pyout",
       "prompt_number": 354,
       "text": [
        "          0         1         2         3         4\n",
        "0  0.000115  0.000099  0.996961  0.002142  0.000683\n",
        "1  0.000143  0.000106  0.996705  0.002310  0.000736\n",
        "2  0.000048  0.000082  0.997471  0.001830  0.000570\n",
        "3  0.000050  0.000081  0.997462  0.001838  0.000569\n",
        "4  0.000088  0.000104  0.996810  0.002275  0.000723"
       ]
      }
     ],
     "prompt_number": 354
    },
    {
     "cell_type": "code",
     "collapsed": false,
     "input": [
      "col = [['r', 'b', 'm', 'c', 'g'][i] for i in pr_data]\n",
      "for i in range(fake_data.shape[0]):\n",
      "    plt.scatter(fake_data[i, 0], fake_data[i, 1], color = col[i])"
     ],
     "language": "python",
     "metadata": {},
     "outputs": [
      {
       "metadata": {},
       "output_type": "display_data",
       "png": "[encoded data removed]",
       "text": [
        "<matplotlib.figure.Figure at 0x10cdf9650>"
       ]
      }
     ],
     "prompt_number": 355
    },
    {
     "cell_type": "code",
     "collapsed": false,
     "input": [
      "set(pr_data)"
     ],
     "language": "python",
     "metadata": {},
     "outputs": [
      {
       "metadata": {},
       "output_type": "pyout",
       "prompt_number": 336,
       "text": [
        "{0, 2}"
       ]
      }
     ],
     "prompt_number": 336
    },
    {
     "cell_type": "code",
     "collapsed": false,
     "input": [],
     "language": "python",
     "metadata": {},
     "outputs": []
    }
   ],
   "metadata": {}
  }
 ]
}