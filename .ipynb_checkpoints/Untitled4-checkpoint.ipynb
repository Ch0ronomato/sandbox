{
 "metadata": {
  "name": "",
  "signature": "sha256:580e078ea6472af69da9b3e35beb359be1df580c0880f9c5ec24b498667800d5"
 },
 "nbformat": 3,
 "nbformat_minor": 0,
 "worksheets": [
  {
   "cells": [
    {
     "cell_type": "code",
     "collapsed": false,
     "input": [
      "%matplotlib inline\n",
      "from pymc import rbeta\n",
      "import matplotlib.pyplot as plt\n",
      "import pandas as pd\n",
      "import numpy as np"
     ],
     "language": "python",
     "metadata": {},
     "outputs": [],
     "prompt_number": 15
    },
    {
     "cell_type": "code",
     "collapsed": false,
     "input": [
      "n = 100\n",
      "y = 0.75 * rbeta(1, 5, n) + 0.25 * rbeta(10, 2, n)\n",
      "#y = np.random.normal(size = n)\n",
      "counts, bins, patches = plt.hist(y, bins = 10)\n",
      "pd.DataFrame([counts, bins]).transpose()"
     ],
     "language": "python",
     "metadata": {},
     "outputs": [
      {
       "html": [
        "<div style=\"max-height:1000px;max-width:1500px;overflow:auto;\">\n",
        "<table border=\"1\" class=\"dataframe\">\n",
        "  <thead>\n",
        "    <tr style=\"text-align: right;\">\n",
        "      <th></th>\n",
        "      <th>0</th>\n",
        "      <th>1</th>\n",
        "    </tr>\n",
        "  </thead>\n",
        "  <tbody>\n",
        "    <tr>\n",
        "      <th>0 </th>\n",
        "      <td>  4</td>\n",
        "      <td> 0.153278</td>\n",
        "    </tr>\n",
        "    <tr>\n",
        "      <th>1 </th>\n",
        "      <td> 21</td>\n",
        "      <td> 0.202412</td>\n",
        "    </tr>\n",
        "    <tr>\n",
        "      <th>2 </th>\n",
        "      <td> 31</td>\n",
        "      <td> 0.251547</td>\n",
        "    </tr>\n",
        "    <tr>\n",
        "      <th>3 </th>\n",
        "      <td> 19</td>\n",
        "      <td> 0.300681</td>\n",
        "    </tr>\n",
        "    <tr>\n",
        "      <th>4 </th>\n",
        "      <td> 13</td>\n",
        "      <td> 0.349816</td>\n",
        "    </tr>\n",
        "    <tr>\n",
        "      <th>5 </th>\n",
        "      <td>  5</td>\n",
        "      <td> 0.398950</td>\n",
        "    </tr>\n",
        "    <tr>\n",
        "      <th>6 </th>\n",
        "      <td>  2</td>\n",
        "      <td> 0.448085</td>\n",
        "    </tr>\n",
        "    <tr>\n",
        "      <th>7 </th>\n",
        "      <td>  2</td>\n",
        "      <td> 0.497219</td>\n",
        "    </tr>\n",
        "    <tr>\n",
        "      <th>8 </th>\n",
        "      <td>  1</td>\n",
        "      <td> 0.546354</td>\n",
        "    </tr>\n",
        "    <tr>\n",
        "      <th>9 </th>\n",
        "      <td>  2</td>\n",
        "      <td> 0.595488</td>\n",
        "    </tr>\n",
        "    <tr>\n",
        "      <th>10</th>\n",
        "      <td>NaN</td>\n",
        "      <td> 0.644623</td>\n",
        "    </tr>\n",
        "  </tbody>\n",
        "</table>\n",
        "</div>"
       ],
       "metadata": {},
       "output_type": "pyout",
       "prompt_number": 16,
       "text": [
        "     0         1\n",
        "0    4  0.153278\n",
        "1   21  0.202412\n",
        "2   31  0.251547\n",
        "3   19  0.300681\n",
        "4   13  0.349816\n",
        "5    5  0.398950\n",
        "6    2  0.448085\n",
        "7    2  0.497219\n",
        "8    1  0.546354\n",
        "9    2  0.595488\n",
        "10 NaN  0.644623"
       ]
      },
      {
       "metadata": {},
       "output_type": "display_data",
       "png": "[encoded data removed]",
       "text": [
        "<matplotlib.figure.Figure at 0x10449dcd0>"
       ]
      }
     ],
     "prompt_number": 16
    },
    {
     "cell_type": "code",
     "collapsed": false,
     "input": [
      "from pymc import dirichlet_expval\n",
      "import numpy as np\n",
      "\n",
      "p = dirichlet_expval(1 + counts)\n",
      "p  = np.append(p, 1. - p.sum())\n",
      "y_exp = n*p\n",
      "p"
     ],
     "language": "python",
     "metadata": {},
     "outputs": [
      {
       "metadata": {},
       "output_type": "pyout",
       "prompt_number": 17,
       "text": [
        "array([ 0.04545455,  0.2       ,  0.29090909,  0.18181818,  0.12727273,\n",
        "        0.05454545,  0.02727273,  0.02727273,  0.01818182,  0.02727273,  0.        ])"
       ]
      }
     ],
     "prompt_number": 17
    },
    {
     "cell_type": "code",
     "collapsed": false,
     "input": [
      "plt.hist(y, bins = 10)\n",
      "plt.step(bins, y_exp, where = 'post', color = 'red', linewidth = 2)"
     ],
     "language": "python",
     "metadata": {},
     "outputs": [
      {
       "metadata": {},
       "output_type": "pyout",
       "prompt_number": 18,
       "text": [
        "[<matplotlib.lines.Line2D at 0x10c108d10>]"
       ]
      },
      {
       "metadata": {},
       "output_type": "display_data",
       "png": "[encoded data removed]",
       "text": [
        "<matplotlib.figure.Figure at 0x10c108690>"
       ]
      }
     ],
     "prompt_number": 18
    },
    {
     "cell_type": "code",
     "collapsed": false,
     "input": [
      "counts, bins, patches = plt.hist(y, bins = 20)\n",
      "p = dirichlet_expval(1+counts)\n",
      "y_exp = n * np.append(p, 1.-p.sum())\n",
      "plt.step(bins, y_exp, color = 'red', where = 'post', linewidth = 4)"
     ],
     "language": "python",
     "metadata": {},
     "outputs": [
      {
       "metadata": {},
       "output_type": "pyout",
       "prompt_number": 19,
       "text": [
        "[<matplotlib.lines.Line2D at 0x10c46a510>]"
       ]
      },
      {
       "metadata": {},
       "output_type": "display_data",
       "png": "[encoded data removed]",
       "text": [
        "<matplotlib.figure.Figure at 0x10c46a310>"
       ]
      }
     ],
     "prompt_number": 19
    },
    {
     "cell_type": "markdown",
     "metadata": {},
     "source": [
      "# Stick breaking process"
     ]
    },
    {
     "cell_type": "code",
     "collapsed": false,
     "input": [
      "from numpy.random import beta\n",
      "\n",
      "def stick_breaking(alpha, k):\n",
      "    betas = beta(1, alpha, k)\n",
      "    remaining_pieces = np.append(1, np.cumprod(1 -betas[:-1]))\n",
      "    p = betas * remaining_pieces\n",
      "    return p/p.sum()"
     ],
     "language": "python",
     "metadata": {},
     "outputs": [],
     "prompt_number": 23
    },
    {
     "cell_type": "code",
     "collapsed": false,
     "input": [
      "k = 25\n",
      "alpha = 7\n",
      "theta = np.random.normal(0, 1, k) #these should be the breaking points"
     ],
     "language": "python",
     "metadata": {},
     "outputs": [],
     "prompt_number": 38
    },
    {
     "cell_type": "code",
     "collapsed": false,
     "input": [
      "p = stick_breaking(alpha, k) #assign probabilities to the breaking points\n",
      "p"
     ],
     "language": "python",
     "metadata": {},
     "outputs": [
      {
       "metadata": {},
       "output_type": "pyout",
       "prompt_number": 39,
       "text": [
        "array([ 0.09728978,  0.00855971,  0.10205895,  0.1718711 ,  0.01277331,\n",
        "        0.03335063,  0.1891813 ,  0.06643863,  0.10555701,  0.0227609 ,\n",
        "        0.00837569,  0.01203453,  0.00482787,  0.04823882,  0.02634184,\n",
        "        0.01020402,  0.00095824,  0.02646761,  0.00975492,  0.01663373,\n",
        "        0.0033271 ,  0.00019346,  0.00498555,  0.01125058,  0.00656471])"
       ]
      }
     ],
     "prompt_number": 39
    },
    {
     "cell_type": "code",
     "collapsed": false,
     "input": [
      "x = np.random.multinomial(k , p) # this is the indicator function\n",
      "x"
     ],
     "language": "python",
     "metadata": {},
     "outputs": [
      {
       "metadata": {},
       "output_type": "pyout",
       "prompt_number": 40,
       "text": [
        "array([2, 0, 3, 7, 0, 0, 7, 0, 1, 0, 0, 0, 1, 2, 0, 1, 0, 0, 0, 0, 0, 0, 1,\n",
        "       0, 0])"
       ]
      }
     ],
     "prompt_number": 40
    },
    {
     "cell_type": "code",
     "collapsed": false,
     "input": [
      "dp = theta[x]\n",
      "dp"
     ],
     "language": "python",
     "metadata": {},
     "outputs": [
      {
       "metadata": {},
       "output_type": "pyout",
       "prompt_number": 41,
       "text": [
        "array([-1.37752996,  0.35338514, -0.80158912,  1.01521093,  0.35338514,\n",
        "        0.35338514,  1.01521093,  0.35338514,  1.33527991,  0.35338514,\n",
        "        0.35338514,  0.35338514,  1.33527991, -1.37752996,  0.35338514,\n",
        "        1.33527991,  0.35338514,  0.35338514,  0.35338514,  0.35338514,\n",
        "        0.35338514,  0.35338514,  1.33527991,  0.35338514,  0.35338514])"
       ]
      }
     ],
     "prompt_number": 41
    },
    {
     "cell_type": "code",
     "collapsed": false,
     "input": [
      "x = list(set(dp))\n",
      "f = [sum(dp == i) for i in x]\n",
      "#pd.DataFrame([f, x]).transpose()\n",
      "plt.bar(x, f, width = 0.01, color = 'grey')"
     ],
     "language": "python",
     "metadata": {},
     "outputs": [
      {
       "metadata": {},
       "output_type": "pyout",
       "prompt_number": 44,
       "text": [
        "<Container object of 5 artists>"
       ]
      },
      {
       "metadata": {},
       "output_type": "display_data",
       "png": "[encoded data removed]",
       "text": [
        "<matplotlib.figure.Figure at 0x10bb03550>"
       ]
      }
     ],
     "prompt_number": 44
    },
    {
     "cell_type": "code",
     "collapsed": false,
     "input": [
      "# The height of these plots represents the group's probability\n",
      "k = 20\n",
      "fig, axes = plt.subplots(2, 5, sharex = True, sharey = True, figsize = (10, 6))\n",
      "for ax in axes.flat:\n",
      "    ax.bar(np.arange(k), np.sort(stick_breaking(alpha = 0.5, k = k))[::-1])\n",
      "    ax.set_ylim(0, 1)"
     ],
     "language": "python",
     "metadata": {},
     "outputs": [
      {
       "metadata": {},
       "output_type": "display_data",
       "png": "[encoded data removed]",
       "text": [
        "<matplotlib.figure.Figure at 0x119cb4190>"
       ]
      }
     ],
     "prompt_number": 59
    },
    {
     "cell_type": "code",
     "collapsed": false,
     "input": [
      "# The height of these plots represents the group's probability\n",
      "k = 20\n",
      "fig, axes = plt.subplots(2, 5, sharex = True, sharey = True, figsize = (10, 6))\n",
      "for ax in axes.flat:\n",
      "    ax.bar(np.arange(k), np.sort(stick_breaking(alpha = 25, k = k))[::-1])\n",
      "    ax.set_ylim(0, 1)"
     ],
     "language": "python",
     "metadata": {},
     "outputs": [
      {
       "metadata": {},
       "output_type": "display_data",
       "png": "[encoded data removed]",
       "text": [
        "<matplotlib.figure.Figure at 0x114f08910>"
       ]
      }
     ],
     "prompt_number": 60
    },
    {
     "cell_type": "code",
     "collapsed": false,
     "input": [
      "#inducing p\n",
      "from numpy.random import choice\n",
      "\n",
      "def dirichlet_process(p, n, P0 = np.random.randn):\n",
      "    theta = P0(len(p))\n",
      "    return np.random.choice(theta, size = n, p = p)"
     ],
     "language": "python",
     "metadata": {},
     "outputs": [],
     "prompt_number": 68
    },
    {
     "cell_type": "code",
     "collapsed": false,
     "input": [
      "p = stick_breaking(alpha = 25, k = 1000)\n",
      "plt.hist(dirichlet_process(p , 1000))"
     ],
     "language": "python",
     "metadata": {},
     "outputs": [
      {
       "metadata": {},
       "output_type": "pyout",
       "prompt_number": 74,
       "text": [
        "(array([  13.,    1.,   34.,  236.,  111.,  285.,  117.,  126.,   42.,   35.]),\n",
        " array([-2.90715679, -2.3927793 , -1.87840182, -1.36402433, -0.84964684,\n",
        "        -0.33526936,  0.17910813,  0.69348562,  1.2078631 ,  1.72224059,\n",
        "         2.23661808]),\n",
        " <a list of 10 Patch objects>)"
       ]
      },
      {
       "metadata": {},
       "output_type": "display_data",
       "png": "[encoded data removed]",
       "text": [
        "<matplotlib.figure.Figure at 0x11fc28ed0>"
       ]
      }
     ],
     "prompt_number": 74
    },
    {
     "cell_type": "markdown",
     "metadata": {},
     "source": [
      "#Chinese restaurant process"
     ]
    },
    {
     "cell_type": "code",
     "collapsed": false,
     "input": [],
     "language": "python",
     "metadata": {},
     "outputs": []
    }
   ],
   "metadata": {}
  }
 ]
}