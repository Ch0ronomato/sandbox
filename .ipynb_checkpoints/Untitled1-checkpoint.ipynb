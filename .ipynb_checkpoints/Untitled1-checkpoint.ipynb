{
 "metadata": {
  "name": "",
  "signature": "sha256:954b6ba47c4297ed25fd55c4ede03e405a3d2e28a8c52e01f54814984a52565e"
 },
 "nbformat": 3,
 "nbformat_minor": 0,
 "worksheets": []
}