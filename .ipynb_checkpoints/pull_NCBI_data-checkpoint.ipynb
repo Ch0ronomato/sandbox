{
 "cells": [
  {
   "cell_type": "code",
   "execution_count": 32,
   "metadata": {
    "collapsed": false
   },
   "outputs": [],
   "source": [
    "import os, re\n",
    "from Bio import SeqIO, Entrez"
   ]
  },
  {
   "cell_type": "code",
   "execution_count": 33,
   "metadata": {
    "collapsed": true
   },
   "outputs": [],
   "source": [
    "seq_data = SeqIO.to_dict(SeqIO.parse(open('HCV_e131.fasta', 'r'), 'fasta'))"
   ]
  },
  {
   "cell_type": "code",
   "execution_count": 34,
   "metadata": {
    "collapsed": false
   },
   "outputs": [],
   "source": [
    "ACCN_test = re.sub('_.+', '', seq_data.keys()[1])"
   ]
  },
  {
   "cell_type": "code",
   "execution_count": 35,
   "metadata": {
    "collapsed": false
   },
   "outputs": [],
   "source": [
    "Entrez.email = 'sebastian.duchene@sydney.edu.au'\n",
    "result = Entrez.efetch(db = 'nucleotide', id = ACCN_test, rettype = 'gb', retmode = 'text').read()\n"
   ]
  },
  {
   "cell_type": "code",
   "execution_count": 36,
   "metadata": {
    "collapsed": false
   },
   "outputs": [
    {
     "name": "stdout",
     "output_type": "stream",
     "text": [
      "LOCUS       AB327012                 438 bp    RNA     linear   VRL 06-JAN-2009\n",
      "DEFINITION  Hepatitis C virus gene for polyprotein, core and E1 region, partial\n",
      "            cds, isolate: KNG327 (RU-BAX-3).\n",
      "ACCESSION   AB327012\n",
      "VERSION     AB327012.1  GI:169636010\n",
      "KEYWORDS    .\n",
      "SOURCE      Hepatitis C virus\n",
      "  ORGANISM  Hepatitis C virus\n",
      "            Viruses; ssRNA viruses; ssRNA positive-strand viruses, no DNA\n",
      "            stage; Flaviviridae; Hepacivirus.\n",
      "REFERENCE   1\n",
      "  AUTHORS   Kurbanov,F., Tanaka,Y., Chub,E., Maruyama,I., Azlarova,A.,\n",
      "            Kamitsukasa,H., Ohno,T., Bonetto,S., Moreau,I., Fanning,L.J.,\n",
      "            Legrand-Abravanel,F., Izopet,J., Naoumov,N., Shimada,T., Netesov,S.\n",
      "            and Mizokami,M.\n",
      "  TITLE     Molecular epidemiology and interferon susceptibility of the natural\n",
      "            recombinant hepatitis C virus strain RF1_2k/1b\n",
      "  JOURNAL   J. Infect. Dis. 198 (10), 1448-1456 (2008)\n",
      "   PUBMED   18928375\n",
      "REFERENCE   2  (bases 1 to 438)\n",
      "  AUTHORS   Kurbanov,F., Tanaka,Y. and Mizokami,M.\n",
      "  TITLE     Direct Submission\n",
      "  JOURNAL   Submitted (18-JUN-2007) Contact:Fuat Kurbanov Nagoya City\n",
      "            University Graduate School of Medical Sciences, Department of\n",
      "            Clinical Molecular Informative Medicine; Kawasumi 1, Mizuho-ku,\n",
      "            Nagoya, Aichi 467-8601, Japan\n",
      "FEATURES             Location/Qualifiers\n",
      "     source          1..438\n",
      "                     /organism=\"Hepatitis C virus\"\n",
      "                     /mol_type=\"genomic RNA\"\n",
      "                     /isolate=\"KNG327 (RU-BAX-3)\"\n",
      "                     /isolation_source=\"Serum specimen obtained from anti-HCV\n",
      "                     positive individual\"\n",
      "                     /db_xref=\"taxon:11103\"\n",
      "                     /country=\"Russia: Southern Siberia\"\n",
      "                     /note=\"genotype RF1_2k/1b\"\n",
      "     CDS             <1..>438\n",
      "                     /note=\"Method: conceptual translation with partial peptide\n",
      "                     sequencing;\n",
      "                     core and E1 region\"\n",
      "                     /codon_start=1\n",
      "                     /product=\"polyprotein\"\n",
      "                     /protein_id=\"BAG12428.1\"\n",
      "                     /db_xref=\"GI:169636011\"\n",
      "                     /translation=\"FSIFLLALLSCISVPVSAVEFKNTSQTYMATNDCSNNSITWQLE\n",
      "                     GAVLHVPGCIPCESIDNISRCWIPVTPNVAVRERGALTKGLRTHIDLIVVSATLCSAL\n",
      "                     YIGDVCGAVMIAAQAVIISPQHHTFVQDCNCSIYPGHITGQRMA\"\n",
      "ORIGIN      \n",
      "        1 ttttctatct tcctactagc tcttttgtct tgtatatctg taccagtatc cgctgtggag\n",
      "       61 ttcaagaaca ccagtcagac ctacatggcc accaatgatt gctctaacaa cagcatcacg\n",
      "      121 tggcaacttg agggtgcggt actacatgtt cctggatgca tcccctgtga gtcaatagac\n",
      "      181 aacatatcgc gatgctggat accagtcacg cctaacgtcg ccgtgaggga gcgcggggcg\n",
      "      241 cttaccaagg gcctgcggac gcatatcgat ttgatcgtgg tgtccgctac gctttgctcc\n",
      "      301 gccctttaca taggggatgt ttgtggtgcg gtcatgatag cggcccaagc agtcatcatt\n",
      "      361 tcgccgcagc accacacttt tgtccaggac tgcaattgtt ccatctaccc gggccacatt\n",
      "      421 acaggacagc gcatggca\n",
      "//\n",
      "\n",
      "\n"
     ]
    }
   ],
   "source": [
    "print(result.read())"
   ]
  },
  {
   "cell_type": "code",
   "execution_count": null,
   "metadata": {
    "collapsed": true
   },
   "outputs": [],
   "source": []
  }
 ],
 "metadata": {
  "kernelspec": {
   "display_name": "Python 2",
   "language": "python",
   "name": "python2"
  },
  "language_info": {
   "codemirror_mode": {
    "name": "ipython",
    "version": 2
   },
   "file_extension": ".py",
   "mimetype": "text/x-python",
   "name": "python",
   "nbconvert_exporter": "python",
   "pygments_lexer": "ipython2",
   "version": "2.7.11"
  }
 },
 "nbformat": 4,
 "nbformat_minor": 0
}
