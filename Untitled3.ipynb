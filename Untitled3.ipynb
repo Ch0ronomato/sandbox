{
 "metadata": {
  "name": "",
  "signature": "sha256:b7ae4227641d908185305a1a0c1d13269e0eab6854af87d3c753dd6a0f684fcb"
 },
 "nbformat": 3,
 "nbformat_minor": 0,
 "worksheets": [
  {
   "cells": [
    {
     "cell_type": "code",
     "collapsed": false,
     "input": [
      "import sqlite3\n",
      "import pandas as pd\n",
      "import numpy as np"
     ],
     "language": "python",
     "metadata": {},
     "outputs": [],
     "prompt_number": 60
    },
    {
     "cell_type": "code",
     "collapsed": false,
     "input": [],
     "language": "python",
     "metadata": {},
     "outputs": [],
     "prompt_number": 1
    },
    {
     "cell_type": "code",
     "collapsed": false,
     "input": [
      "db = sqlite3.connect('mydb.db')\n",
      "cursor = db.cursor()\n",
      "cursor.execute('DROP TABLE users;')"
     ],
     "language": "python",
     "metadata": {},
     "outputs": [
      {
       "metadata": {},
       "output_type": "pyout",
       "prompt_number": 2,
       "text": [
        "<sqlite3.Cursor at 0x10b426d50>"
       ]
      }
     ],
     "prompt_number": 2
    },
    {
     "cell_type": "code",
     "collapsed": false,
     "input": [
      "cursor.execute('''CREATE TABLE users(id INTEGER PRIMARY KEY, name TEXT, phone TEXT, email TEXT unique, password TEXT);''')\n",
      "db.commit()"
     ],
     "language": "python",
     "metadata": {},
     "outputs": [],
     "prompt_number": 3
    },
    {
     "cell_type": "code",
     "collapsed": false,
     "input": [
      "name1 = 'Andres'\n",
      "phone1 = '18002262727'\n",
      "email1 = 'user@example.com'\n",
      "password1 = '1234'\n",
      "name2 = 'john'\n",
      "phone2 = '34235325'\n",
      "email2 = 'user2@sxamples.com'\n",
      "password2 = '24w23r'"
     ],
     "language": "python",
     "metadata": {},
     "outputs": [],
     "prompt_number": 4
    },
    {
     "cell_type": "code",
     "collapsed": false,
     "input": [
      "cursor.execute('insert into users(name, phone, email, password) values(?, ?, ?, ?)', (name1, phone1, email1, password1))\n",
      "db.commit()"
     ],
     "language": "python",
     "metadata": {},
     "outputs": [],
     "prompt_number": 5
    },
    {
     "cell_type": "code",
     "collapsed": false,
     "input": [
      "cursor.execute('INSERT INTO users(name, phone, email, password) values(:name, :phone, :email, :password)', {'name':name2, 'phone':phone2, 'email':email2, 'password':password2})\n",
      "db.commit()"
     ],
     "language": "python",
     "metadata": {},
     "outputs": [],
     "prompt_number": 6
    },
    {
     "cell_type": "code",
     "collapsed": false,
     "input": [
      "new_dat = [(1, 2, 333, 3), (4, 5, 3, 3), (323, 2323, 545, 646), ('mo', 323, 23, 2)]"
     ],
     "language": "python",
     "metadata": {},
     "outputs": [],
     "prompt_number": 7
    },
    {
     "cell_type": "code",
     "collapsed": false,
     "input": [
      "cursor.executemany('insert into users(name, phone, email, password) values(?, ?, ?, ?);', new_dat)"
     ],
     "language": "python",
     "metadata": {},
     "outputs": [
      {
       "metadata": {},
       "output_type": "pyout",
       "prompt_number": 8,
       "text": [
        "<sqlite3.Cursor at 0x10b426d50>"
       ]
      }
     ],
     "prompt_number": 8
    },
    {
     "cell_type": "code",
     "collapsed": false,
     "input": [
      "db.commit()"
     ],
     "language": "python",
     "metadata": {},
     "outputs": [],
     "prompt_number": 9
    },
    {
     "cell_type": "code",
     "collapsed": false,
     "input": [
      "# Not to retrieving data with select"
     ],
     "language": "python",
     "metadata": {},
     "outputs": [],
     "prompt_number": 10
    },
    {
     "cell_type": "code",
     "collapsed": false,
     "input": [
      "cursor.execute('SELECT name, email, phone FROM users;')\n",
      "all_rows = cursor.fetchall()\n",
      "for row in all_rows:\n",
      "    print row"
     ],
     "language": "python",
     "metadata": {},
     "outputs": [
      {
       "output_type": "stream",
       "stream": "stdout",
       "text": [
        "(u'Andres', u'user@example.com', u'18002262727')\n",
        "(u'john', u'user2@sxamples.com', u'34235325')\n",
        "(u'1', u'333', u'2')\n",
        "(u'4', u'3', u'5')\n",
        "(u'323', u'545', u'2323')\n",
        "(u'mo', u'23', u'323')\n"
       ]
      }
     ],
     "prompt_number": 14
    },
    {
     "cell_type": "code",
     "collapsed": false,
     "input": [
      "user_id=3\n",
      "cursor.execute('SELECT * FROM users WHERE id=?', (user_id,))\n",
      "user = cursor.fetchall()\n",
      "print user"
     ],
     "language": "python",
     "metadata": {},
     "outputs": [
      {
       "output_type": "stream",
       "stream": "stdout",
       "text": [
        "[(3, u'1', u'2', u'333', u'3')]\n"
       ]
      }
     ],
     "prompt_number": 20
    },
    {
     "cell_type": "code",
     "collapsed": false,
     "input": [
      "# update and delete data"
     ],
     "language": "python",
     "metadata": {},
     "outputs": [],
     "prompt_number": 21
    },
    {
     "cell_type": "code",
     "collapsed": false,
     "input": [
      "newphone = 2253567\n",
      "userid = 1\n",
      "cursor.execute('UPDATE users SET phone = ? WHERE id = ?', (newphone, userid))\n",
      "delete_usr = 2\n",
      "cursor.execute('DELETE FROM users WHERE id = ?', (delete_usr,))\n",
      "db.commit()"
     ],
     "language": "python",
     "metadata": {},
     "outputs": [],
     "prompt_number": 24
    },
    {
     "cell_type": "code",
     "collapsed": false,
     "input": [
      "cursor.execute('SELECT * FROM users;')\n",
      "res = cursor.fetchall()\n",
      "print(res)"
     ],
     "language": "python",
     "metadata": {},
     "outputs": [
      {
       "output_type": "stream",
       "stream": "stdout",
       "text": [
        "[(1, u'Andres', u'2253567', u'user@example.com', u'1234'), (3, u'1', u'2', u'333', u'3'), (4, u'4', u'5', u'3', u'3'), (5, u'323', u'2323', u'545', u'646'), (6, u'mo', u'323', u'23', u'2')]\n"
       ]
      }
     ],
     "prompt_number": 25
    },
    {
     "cell_type": "code",
     "collapsed": false,
     "input": [
      "# Using sqlite transactions"
     ],
     "language": "python",
     "metadata": {},
     "outputs": [],
     "prompt_number": 26
    },
    {
     "cell_type": "code",
     "collapsed": false,
     "input": [
      "cursor.execute('UPDATE users SET phone = ? WHERE id = ?;', ('666', 3))\n",
      "db.commit()\n",
      "cursor.execute('SELECT * FROM users;')\n",
      "print(pd.DataFrame(cursor.fetchall()))"
     ],
     "language": "python",
     "metadata": {},
     "outputs": [
      {
       "output_type": "stream",
       "stream": "stdout",
       "text": [
        "   0       1        2                 3     4\n",
        "0  1  Andres  2253567  user@example.com  1234\n",
        "1  3       1      666               333     3\n",
        "2  4       4        5                 3     3\n",
        "3  5     323     2323               545   646\n",
        "4  6      mo      323                23     2\n"
       ]
      }
     ],
     "prompt_number": 30
    },
    {
     "cell_type": "code",
     "collapsed": false,
     "input": [
      "cursor.execute(\"UPDATE users SET name = ? WHERE name = ?;\", ('harry', 1))\n",
      "cursor.execute('SELECT * FROM users;')\n",
      "print pd.DataFrame(cursor.fetchall())\n",
      "db.rollback()\n",
      "print '######'*3\n",
      "cursor.execute('SELECT * FROM users;')\n",
      "pd.DataFrame(cursor.fetchall())"
     ],
     "language": "python",
     "metadata": {},
     "outputs": [
      {
       "output_type": "stream",
       "stream": "stdout",
       "text": [
        "   0       1        2                 3     4\n",
        "0  1  Andres  2253567  user@example.com  1234\n",
        "1  3   harry      666               333     3\n",
        "2  4       4        5                 3     3\n",
        "3  5     323     2323               545   646\n",
        "4  6      mo      323                23     2\n",
        "##################\n"
       ]
      },
      {
       "html": [
        "<div style=\"max-height:1000px;max-width:1500px;overflow:auto;\">\n",
        "<table border=\"1\" class=\"dataframe\">\n",
        "  <thead>\n",
        "    <tr style=\"text-align: right;\">\n",
        "      <th></th>\n",
        "      <th>0</th>\n",
        "      <th>1</th>\n",
        "      <th>2</th>\n",
        "      <th>3</th>\n",
        "      <th>4</th>\n",
        "    </tr>\n",
        "  </thead>\n",
        "  <tbody>\n",
        "    <tr>\n",
        "      <th>0</th>\n",
        "      <td> 1</td>\n",
        "      <td> Andres</td>\n",
        "      <td> 2253567</td>\n",
        "      <td> user@example.com</td>\n",
        "      <td> 1234</td>\n",
        "    </tr>\n",
        "    <tr>\n",
        "      <th>1</th>\n",
        "      <td> 3</td>\n",
        "      <td>      1</td>\n",
        "      <td>     666</td>\n",
        "      <td>              333</td>\n",
        "      <td>    3</td>\n",
        "    </tr>\n",
        "    <tr>\n",
        "      <th>2</th>\n",
        "      <td> 4</td>\n",
        "      <td>      4</td>\n",
        "      <td>       5</td>\n",
        "      <td>                3</td>\n",
        "      <td>    3</td>\n",
        "    </tr>\n",
        "    <tr>\n",
        "      <th>3</th>\n",
        "      <td> 5</td>\n",
        "      <td>    323</td>\n",
        "      <td>    2323</td>\n",
        "      <td>              545</td>\n",
        "      <td>  646</td>\n",
        "    </tr>\n",
        "    <tr>\n",
        "      <th>4</th>\n",
        "      <td> 6</td>\n",
        "      <td>     mo</td>\n",
        "      <td>     323</td>\n",
        "      <td>               23</td>\n",
        "      <td>    2</td>\n",
        "    </tr>\n",
        "  </tbody>\n",
        "</table>\n",
        "</div>"
       ],
       "metadata": {},
       "output_type": "pyout",
       "prompt_number": 44,
       "text": [
        "   0       1        2                 3     4\n",
        "0  1  Andres  2253567  user@example.com  1234\n",
        "1  3       1      666               333     3\n",
        "2  4       4        5                 3     3\n",
        "3  5     323     2323               545   646\n",
        "4  6      mo      323                23     2"
       ]
      }
     ],
     "prompt_number": 44
    },
    {
     "cell_type": "code",
     "collapsed": false,
     "input": [
      "# Sqlite exceptions"
     ],
     "language": "python",
     "metadata": {},
     "outputs": [],
     "prompt_number": 45
    },
    {
     "cell_type": "code",
     "collapsed": false,
     "input": [
      "import sqlite3\n",
      "try:\n",
      "    db = sqlite3.connect('mydb.db')\n",
      "    cursor = db.cursor()\n",
      "    cursor.execute('''\n",
      "    CREATE TABLE IF NOT EXISTS \n",
      "    users(id INTEGER PRIMARY KEY, name TEXT, \n",
      "    phone TEXT, \n",
      "    email TEXT unique, \n",
      "    password TEXT);\n",
      "    ''')\n",
      "    db.commit()\n",
      "except Exception as e:\n",
      "    db.rollback()\n",
      "    raise e\n",
      "finally:\n",
      "    db.close()"
     ],
     "language": "python",
     "metadata": {},
     "outputs": [],
     "prompt_number": 46
    },
    {
     "cell_type": "code",
     "collapsed": false,
     "input": [
      "name1 = 'Sebastian'\n",
      "phone1 = 9468671669\n",
      "email1 = 'sebastian.duchene@sydney.edu.au'\n",
      "password1 = 'singlebreath'\n",
      "db = sqlite3.connect('mydb.db')\n",
      "cursor = db.cursor()\n",
      "\n",
      "try:\n",
      "    with db:\n",
      "        db.execute('''\n",
      "        INSERT INTO users(name, phone, email, password) \n",
      "        VALUES(?, ?, ?, ?)\n",
      "        ''', (name1, phone1, email1, password1))\n",
      "except sqlite3.IntegrityError:\n",
      "    print('Record exists')\n",
      "finally:\n",
      "    db.close()\n",
      "    "
     ],
     "language": "python",
     "metadata": {},
     "outputs": [
      {
       "output_type": "stream",
       "stream": "stdout",
       "text": [
        "Record exists\n"
       ]
      }
     ],
     "prompt_number": 49
    },
    {
     "cell_type": "code",
     "collapsed": false,
     "input": [
      "db = sqlite3.connect('mydb.db')\n",
      "cursor = db.cursor()\n",
      "cursor.execute('SELECT * FROM users;')\n",
      "table_dat = pd.DataFrame(cursor.fetchall())\n",
      "db.close()"
     ],
     "language": "python",
     "metadata": {},
     "outputs": [],
     "prompt_number": 52
    },
    {
     "cell_type": "code",
     "collapsed": false,
     "input": [
      "db = sqlite3.connect('mydb.db')\n",
      "table_dat = pd.read_sql('SELECT * FROM users;', db, index_col='id', head = 0 )"
     ],
     "language": "python",
     "metadata": {},
     "outputs": [
      {
       "ename": "TypeError",
       "evalue": "read_frame() got an unexpected keyword argument 'head'",
       "output_type": "pyerr",
       "traceback": [
        "\u001b[0;31m---------------------------------------------------------------------------\u001b[0m\n\u001b[0;31mTypeError\u001b[0m                                 Traceback (most recent call last)",
        "\u001b[0;32m<ipython-input-59-5ec5b77ef612>\u001b[0m in \u001b[0;36m<module>\u001b[0;34m()\u001b[0m\n\u001b[1;32m      1\u001b[0m \u001b[0mdb\u001b[0m \u001b[0;34m=\u001b[0m \u001b[0msqlite3\u001b[0m\u001b[0;34m.\u001b[0m\u001b[0mconnect\u001b[0m\u001b[0;34m(\u001b[0m\u001b[0;34m'mydb.db'\u001b[0m\u001b[0;34m)\u001b[0m\u001b[0;34m\u001b[0m\u001b[0m\n\u001b[0;32m----> 2\u001b[0;31m \u001b[0mtable_dat\u001b[0m \u001b[0;34m=\u001b[0m \u001b[0mpd\u001b[0m\u001b[0;34m.\u001b[0m\u001b[0mread_sql\u001b[0m\u001b[0;34m(\u001b[0m\u001b[0;34m'SELECT * FROM users;'\u001b[0m\u001b[0;34m,\u001b[0m \u001b[0mdb\u001b[0m\u001b[0;34m,\u001b[0m \u001b[0mindex_col\u001b[0m\u001b[0;34m=\u001b[0m\u001b[0;34m'id'\u001b[0m\u001b[0;34m,\u001b[0m \u001b[0mhead\u001b[0m \u001b[0;34m=\u001b[0m \u001b[0;36m0\u001b[0m \u001b[0;34m)\u001b[0m\u001b[0;34m\u001b[0m\u001b[0m\n\u001b[0m",
        "\u001b[0;31mTypeError\u001b[0m: read_frame() got an unexpected keyword argument 'head'"
       ]
      }
     ],
     "prompt_number": 59
    },
    {
     "cell_type": "code",
     "collapsed": false,
     "input": [
      "table_dat"
     ],
     "language": "python",
     "metadata": {},
     "outputs": [
      {
       "html": [
        "<div style=\"max-height:1000px;max-width:1500px;overflow:auto;\">\n",
        "<table border=\"1\" class=\"dataframe\">\n",
        "  <thead>\n",
        "    <tr style=\"text-align: right;\">\n",
        "      <th></th>\n",
        "      <th>name</th>\n",
        "      <th>phone</th>\n",
        "      <th>email</th>\n",
        "      <th>password</th>\n",
        "    </tr>\n",
        "    <tr>\n",
        "      <th>id</th>\n",
        "      <th></th>\n",
        "      <th></th>\n",
        "      <th></th>\n",
        "      <th></th>\n",
        "    </tr>\n",
        "  </thead>\n",
        "  <tbody>\n",
        "    <tr>\n",
        "      <th>1</th>\n",
        "      <td>    Andres</td>\n",
        "      <td>    2253567</td>\n",
        "      <td>                user@example.com</td>\n",
        "      <td>         1234</td>\n",
        "    </tr>\n",
        "    <tr>\n",
        "      <th>3</th>\n",
        "      <td>         1</td>\n",
        "      <td>        666</td>\n",
        "      <td>                             333</td>\n",
        "      <td>            3</td>\n",
        "    </tr>\n",
        "    <tr>\n",
        "      <th>4</th>\n",
        "      <td>         4</td>\n",
        "      <td>          5</td>\n",
        "      <td>                               3</td>\n",
        "      <td>            3</td>\n",
        "    </tr>\n",
        "    <tr>\n",
        "      <th>5</th>\n",
        "      <td>       323</td>\n",
        "      <td>       2323</td>\n",
        "      <td>                             545</td>\n",
        "      <td>          646</td>\n",
        "    </tr>\n",
        "    <tr>\n",
        "      <th>6</th>\n",
        "      <td>        mo</td>\n",
        "      <td>        323</td>\n",
        "      <td>                              23</td>\n",
        "      <td>            2</td>\n",
        "    </tr>\n",
        "    <tr>\n",
        "      <th>7</th>\n",
        "      <td> Sebastian</td>\n",
        "      <td> 9468671669</td>\n",
        "      <td> sebastian.duchene@sydney.edu.au</td>\n",
        "      <td> singlebreath</td>\n",
        "    </tr>\n",
        "  </tbody>\n",
        "</table>\n",
        "</div>"
       ],
       "metadata": {},
       "output_type": "pyout",
       "prompt_number": 57,
       "text": [
        "         name       phone                            email      password\n",
        "id                                                                      \n",
        "1      Andres     2253567                 user@example.com          1234\n",
        "3           1         666                              333             3\n",
        "4           4           5                                3             3\n",
        "5         323        2323                              545           646\n",
        "6          mo         323                               23             2\n",
        "7   Sebastian  9468671669  sebastian.duchene@sydney.edu.au  singlebreath"
       ]
      }
     ],
     "prompt_number": 57
    },
    {
     "cell_type": "code",
     "collapsed": false,
     "input": [
      "dat = np.array(['wow', '333', 'swewg@123.com', 'wowow'])\n",
      "dat.shape = (1,4)\n",
      "dat\n",
      "new_val = pd.DataFrame(data = dat, columns = table_dat.columns, index=[2])"
     ],
     "language": "python",
     "metadata": {},
     "outputs": [],
     "prompt_number": 128
    },
    {
     "cell_type": "code",
     "collapsed": false,
     "input": [
      "new_val"
     ],
     "language": "python",
     "metadata": {},
     "outputs": [
      {
       "html": [
        "<div style=\"max-height:1000px;max-width:1500px;overflow:auto;\">\n",
        "<table border=\"1\" class=\"dataframe\">\n",
        "  <thead>\n",
        "    <tr style=\"text-align: right;\">\n",
        "      <th></th>\n",
        "      <th>name</th>\n",
        "      <th>phone</th>\n",
        "      <th>email</th>\n",
        "      <th>password</th>\n",
        "    </tr>\n",
        "  </thead>\n",
        "  <tbody>\n",
        "    <tr>\n",
        "      <th>2</th>\n",
        "      <td> wow</td>\n",
        "      <td> 333</td>\n",
        "      <td> swewg@123.com</td>\n",
        "      <td> wowow</td>\n",
        "    </tr>\n",
        "  </tbody>\n",
        "</table>\n",
        "</div>"
       ],
       "metadata": {},
       "output_type": "pyout",
       "prompt_number": 129,
       "text": [
        "  name phone          email password\n",
        "2  wow   333  swewg@123.com    wowow"
       ]
      }
     ],
     "prompt_number": 129
    },
    {
     "cell_type": "code",
     "collapsed": false,
     "input": [
      "new_table = pd.concat([table_dat, new_val])"
     ],
     "language": "python",
     "metadata": {},
     "outputs": [],
     "prompt_number": 132
    },
    {
     "cell_type": "code",
     "collapsed": false,
     "input": [],
     "language": "python",
     "metadata": {},
     "outputs": []
    }
   ],
   "metadata": {}
  }
 ]
}