{
 "metadata": {
  "name": "",
  "signature": "sha256:bb26217069ad0caaf99584530bd05b006369e1d92a470398140c51d09b77116d"
 },
 "nbformat": 3,
 "nbformat_minor": 0,
 "worksheets": [
  {
   "cells": [
    {
     "cell_type": "code",
     "collapsed": false,
     "input": [
      "import sqlite3\n",
      "con = sqlite3.connect('microbiome.db')\n",
      "con"
     ],
     "language": "python",
     "metadata": {},
     "outputs": [
      {
       "metadata": {},
       "output_type": "pyout",
       "prompt_number": 42,
       "text": [
        "<sqlite3.Connection at 0x10c908770>"
       ]
      }
     ],
     "prompt_number": 42
    },
    {
     "cell_type": "code",
     "collapsed": false,
     "input": [
      "cur = con.cursor()\n",
      "cur"
     ],
     "language": "python",
     "metadata": {},
     "outputs": [
      {
       "metadata": {},
       "output_type": "pyout",
       "prompt_number": 43,
       "text": [
        "<sqlite3.Cursor at 0x10c9816c0>"
       ]
      }
     ],
     "prompt_number": 43
    },
    {
     "cell_type": "code",
     "collapsed": false,
     "input": [
      "cur.execute('CREATE TABLE samples (Taxon text, Patient integer, NEC integer, Tissue integer, Stool integer)')"
     ],
     "language": "python",
     "metadata": {},
     "outputs": [
      {
       "ename": "OperationalError",
       "evalue": "table samples already exists",
       "output_type": "pyerr",
       "traceback": [
        "\u001b[0;31m---------------------------------------------------------------------------\u001b[0m\n\u001b[0;31mOperationalError\u001b[0m                          Traceback (most recent call last)",
        "\u001b[0;32m<ipython-input-44-652747b7b7ed>\u001b[0m in \u001b[0;36m<module>\u001b[0;34m()\u001b[0m\n\u001b[0;32m----> 1\u001b[0;31m \u001b[0mcur\u001b[0m\u001b[0;34m.\u001b[0m\u001b[0mexecute\u001b[0m\u001b[0;34m(\u001b[0m\u001b[0;34m'CREATE TABLE samples (Taxon text, Patient integer, NEC integer, Tissue integer, Stool integer)'\u001b[0m\u001b[0;34m)\u001b[0m\u001b[0;34m\u001b[0m\u001b[0m\n\u001b[0m",
        "\u001b[0;31mOperationalError\u001b[0m: table samples already exists"
       ]
      }
     ],
     "prompt_number": 44
    },
    {
     "cell_type": "code",
     "collapsed": false,
     "input": [
      "con.commit()"
     ],
     "language": "python",
     "metadata": {},
     "outputs": [],
     "prompt_number": 45
    },
    {
     "cell_type": "code",
     "collapsed": false,
     "input": [
      "cur.execute('INSERT INTO samples values (\\'Bacteroidetes\\',14,1,02,33)')\n",
      "con.commit()"
     ],
     "language": "python",
     "metadata": {},
     "outputs": [],
     "prompt_number": 46
    },
    {
     "cell_type": "code",
     "collapsed": false,
     "input": [
      "samples = [('Firmicutes',1,0,136,4182),\n",
      "('Firmicutes',2,1,1174,703),\n",
      "('Firmicutes',3,0,408,3946),\n",
      "('Firmicutes',4,1,831,8605),\n",
      "('Firmicutes',5,0,693,50),\n",
      "('Firmicutes',6,1,718,717),\n",
      "('Proteobacteria',8,1,2651,767),\n",
      "('Proteobacteria',9,0,1195,76),\n",
      "('Proteobacteria',10,1,6857,795),\n",
      "('Proteobacteria',11,0,483,666),\n",
      "('Proteobacteria',12,1,2950,3994),\n",
      "('Actinobacteria',11,0,42,75),\n",
      "('Actinobacteria',12,1,109,59),\n",
      "('Actinobacteria',13,0,51,183),\n",
      "('Actinobacteria',14,1,310,204),\n",
      "('Bacteroidetes',1,0,67,0),\n",
      "('Bacteroidetes',2,1,0,0),\n",
      "('Bacteroidetes',3,0,85,5),\n",
      "('Bacteroidetes',4,1,143,7)]"
     ],
     "language": "python",
     "metadata": {},
     "outputs": [],
     "prompt_number": 47
    },
    {
     "cell_type": "code",
     "collapsed": false,
     "input": [
      "cur.executemany('INSERT INTO samples values (?, ?, ?, ?, ?)', samples)\n",
      "con.commit()"
     ],
     "language": "python",
     "metadata": {},
     "outputs": [],
     "prompt_number": 48
    },
    {
     "cell_type": "code",
     "collapsed": false,
     "input": [
      "results = cur.execute('select * from samples')\n",
      "results"
     ],
     "language": "python",
     "metadata": {},
     "outputs": [
      {
       "metadata": {},
       "output_type": "pyout",
       "prompt_number": 49,
       "text": [
        "<sqlite3.Cursor at 0x10c9816c0>"
       ]
      }
     ],
     "prompt_number": 49
    },
    {
     "cell_type": "code",
     "collapsed": false,
     "input": [
      "wow = results.fetchall()"
     ],
     "language": "python",
     "metadata": {},
     "outputs": [],
     "prompt_number": 50
    },
    {
     "cell_type": "code",
     "collapsed": false,
     "input": [
      "wow[1:10]"
     ],
     "language": "python",
     "metadata": {},
     "outputs": [
      {
       "metadata": {},
       "output_type": "pyout",
       "prompt_number": 51,
       "text": [
        "[(u'Firmicutes', 1, 0, 136, 4182),\n",
        " (u'Firmicutes', 2, 1, 1174, 703),\n",
        " (u'Firmicutes', 3, 0, 408, 3946),\n",
        " (u'Firmicutes', 4, 1, 831, 8605),\n",
        " (u'Firmicutes', 5, 0, 693, 50),\n",
        " (u'Firmicutes', 6, 1, 718, 717),\n",
        " (u'Proteobacteria', 8, 1, 2651, 767),\n",
        " (u'Proteobacteria', 9, 0, 1195, 76),\n",
        " (u'Proteobacteria', 10, 1, 6857, 795)]"
       ]
      }
     ],
     "prompt_number": 51
    },
    {
     "cell_type": "code",
     "collapsed": false,
     "input": [
      "cur.close()"
     ],
     "language": "python",
     "metadata": {},
     "outputs": [],
     "prompt_number": 52
    },
    {
     "cell_type": "code",
     "collapsed": false,
     "input": [
      "!pip install ipython-sql"
     ],
     "language": "python",
     "metadata": {},
     "outputs": [
      {
       "output_type": "stream",
       "stream": "stdout",
       "text": [
        "Requirement already satisfied (use --upgrade to upgrade): ipython-sql in /Users/sebastianducheneAIr/Library/Enthought/Canopy_64bit/User/lib/python2.7/site-packages\r\n",
        "Requirement already satisfied (use --upgrade to upgrade): prettytable in /Users/sebastianducheneAIr/Library/Enthought/Canopy_64bit/User/lib/python2.7/site-packages (from ipython-sql)\r\n",
        "Requirement already satisfied (use --upgrade to upgrade): ipython>=1.0 in /Users/sebastianducheneAIr/Library/Enthought/Canopy_64bit/User/lib/python2.7/site-packages (from ipython-sql)\r\n",
        "Requirement already satisfied (use --upgrade to upgrade): sqlalchemy>=0.6.7 in /Users/sebastianducheneAIr/Library/Enthought/Canopy_64bit/User/lib/python2.7/site-packages (from ipython-sql)\r\n",
        "Requirement already satisfied (use --upgrade to upgrade): sqlparse in /Users/sebastianducheneAIr/Library/Enthought/Canopy_64bit/User/lib/python2.7/site-packages (from ipython-sql)\r\n",
        "Requirement already satisfied (use --upgrade to upgrade): six in /Users/sebastianducheneAIr/Library/Enthought/Canopy_64bit/User/lib/python2.7/site-packages (from ipython-sql)\r\n",
        "Requirement already satisfied (use --upgrade to upgrade): gnureadline in /Users/sebastianducheneAIr/Library/Enthought/Canopy_64bit/User/lib/python2.7/site-packages (from ipython>=1.0->ipython-sql)\r\n",
        "Cleaning up...\r\n"
       ]
      }
     ],
     "prompt_number": 53
    },
    {
     "cell_type": "code",
     "collapsed": false,
     "input": [
      "%load_ext sql"
     ],
     "language": "python",
     "metadata": {},
     "outputs": [
      {
       "output_type": "stream",
       "stream": "stdout",
       "text": [
        "The sql extension is already loaded. To reload it, use:\n",
        "  %reload_ext sql\n"
       ]
      }
     ],
     "prompt_number": 54
    },
    {
     "cell_type": "code",
     "collapsed": false,
     "input": [
      "%sql sqlite:///microbiome.db"
     ],
     "language": "python",
     "metadata": {},
     "outputs": [
      {
       "metadata": {},
       "output_type": "pyout",
       "prompt_number": 55,
       "text": [
        "u'Connected: None@microbiome.db'"
       ]
      }
     ],
     "prompt_number": 55
    },
    {
     "cell_type": "code",
     "collapsed": false,
     "input": [
      "%%sql\n",
      "INSERT INTO samples VALUES ('Actinobacteria', 7, 0, 260, 58);"
     ],
     "language": "python",
     "metadata": {},
     "outputs": [
      {
       "output_type": "stream",
       "stream": "stdout",
       "text": [
        "1 rows affected.\n"
       ]
      },
      {
       "metadata": {},
       "output_type": "pyout",
       "prompt_number": 56,
       "text": [
        "[]"
       ]
      }
     ],
     "prompt_number": 56
    },
    {
     "cell_type": "code",
     "collapsed": false,
     "input": [
      "writer_results = %sql SELECT * FROM samples WHERE NEC == 1; "
     ],
     "language": "python",
     "metadata": {},
     "outputs": [
      {
       "output_type": "stream",
       "stream": "stdout",
       "text": [
        "Done.\n"
       ]
      }
     ],
     "prompt_number": 57
    },
    {
     "cell_type": "code",
     "collapsed": false,
     "input": [
      "writer_results.DataFrame()"
     ],
     "language": "python",
     "metadata": {},
     "outputs": [
      {
       "html": [
        "<div style=\"max-height:1000px;max-width:1500px;overflow:auto;\">\n",
        "<table border=\"1\" class=\"dataframe\">\n",
        "  <thead>\n",
        "    <tr style=\"text-align: right;\">\n",
        "      <th></th>\n",
        "      <th>Taxon</th>\n",
        "      <th>Patient</th>\n",
        "      <th>NEC</th>\n",
        "      <th>Tissue</th>\n",
        "      <th>Stool</th>\n",
        "    </tr>\n",
        "  </thead>\n",
        "  <tbody>\n",
        "    <tr>\n",
        "      <th>0 </th>\n",
        "      <td>  Bacteroidetes</td>\n",
        "      <td> 14</td>\n",
        "      <td> 1</td>\n",
        "      <td>    2</td>\n",
        "      <td>   33</td>\n",
        "    </tr>\n",
        "    <tr>\n",
        "      <th>1 </th>\n",
        "      <td>     Firmicutes</td>\n",
        "      <td>  2</td>\n",
        "      <td> 1</td>\n",
        "      <td> 1174</td>\n",
        "      <td>  703</td>\n",
        "    </tr>\n",
        "    <tr>\n",
        "      <th>2 </th>\n",
        "      <td>     Firmicutes</td>\n",
        "      <td>  4</td>\n",
        "      <td> 1</td>\n",
        "      <td>  831</td>\n",
        "      <td> 8605</td>\n",
        "    </tr>\n",
        "    <tr>\n",
        "      <th>3 </th>\n",
        "      <td>     Firmicutes</td>\n",
        "      <td>  6</td>\n",
        "      <td> 1</td>\n",
        "      <td>  718</td>\n",
        "      <td>  717</td>\n",
        "    </tr>\n",
        "    <tr>\n",
        "      <th>4 </th>\n",
        "      <td> Proteobacteria</td>\n",
        "      <td>  8</td>\n",
        "      <td> 1</td>\n",
        "      <td> 2651</td>\n",
        "      <td>  767</td>\n",
        "    </tr>\n",
        "    <tr>\n",
        "      <th>5 </th>\n",
        "      <td> Proteobacteria</td>\n",
        "      <td> 10</td>\n",
        "      <td> 1</td>\n",
        "      <td> 6857</td>\n",
        "      <td>  795</td>\n",
        "    </tr>\n",
        "    <tr>\n",
        "      <th>6 </th>\n",
        "      <td> Proteobacteria</td>\n",
        "      <td> 12</td>\n",
        "      <td> 1</td>\n",
        "      <td> 2950</td>\n",
        "      <td> 3994</td>\n",
        "    </tr>\n",
        "    <tr>\n",
        "      <th>7 </th>\n",
        "      <td> Actinobacteria</td>\n",
        "      <td> 12</td>\n",
        "      <td> 1</td>\n",
        "      <td>  109</td>\n",
        "      <td>   59</td>\n",
        "    </tr>\n",
        "    <tr>\n",
        "      <th>8 </th>\n",
        "      <td> Actinobacteria</td>\n",
        "      <td> 14</td>\n",
        "      <td> 1</td>\n",
        "      <td>  310</td>\n",
        "      <td>  204</td>\n",
        "    </tr>\n",
        "    <tr>\n",
        "      <th>9 </th>\n",
        "      <td>  Bacteroidetes</td>\n",
        "      <td>  2</td>\n",
        "      <td> 1</td>\n",
        "      <td>    0</td>\n",
        "      <td>    0</td>\n",
        "    </tr>\n",
        "    <tr>\n",
        "      <th>10</th>\n",
        "      <td>  Bacteroidetes</td>\n",
        "      <td>  4</td>\n",
        "      <td> 1</td>\n",
        "      <td>  143</td>\n",
        "      <td>    7</td>\n",
        "    </tr>\n",
        "  </tbody>\n",
        "</table>\n",
        "</div>"
       ],
       "metadata": {},
       "output_type": "pyout",
       "prompt_number": 58,
       "text": [
        "             Taxon Patient NEC Tissue Stool\n",
        "0    Bacteroidetes      14   1      2    33\n",
        "1       Firmicutes       2   1   1174   703\n",
        "2       Firmicutes       4   1    831  8605\n",
        "3       Firmicutes       6   1    718   717\n",
        "4   Proteobacteria       8   1   2651   767\n",
        "5   Proteobacteria      10   1   6857   795\n",
        "6   Proteobacteria      12   1   2950  3994\n",
        "7   Actinobacteria      12   1    109    59\n",
        "8   Actinobacteria      14   1    310   204\n",
        "9    Bacteroidetes       2   1      0     0\n",
        "10   Bacteroidetes       4   1    143     7"
       ]
      }
     ],
     "prompt_number": 58
    },
    {
     "cell_type": "code",
     "collapsed": false,
     "input": [
      "%sql sqlite:///survey.db"
     ],
     "language": "python",
     "metadata": {},
     "outputs": [
      {
       "metadata": {},
       "output_type": "pyout",
       "prompt_number": 59,
       "text": [
        "u'Connected: None@survey.db'"
       ]
      }
     ],
     "prompt_number": 59
    },
    {
     "cell_type": "code",
     "collapsed": false,
     "input": [
      "%sql select family, personal from Person;"
     ],
     "language": "python",
     "metadata": {},
     "outputs": [
      {
       "output_type": "stream",
       "stream": "stdout",
       "text": [
        "Done.\n"
       ]
      },
      {
       "html": [
        "<table>\n",
        "    <tr>\n",
        "        <th>family</th>\n",
        "        <th>personal</th>\n",
        "    </tr>\n",
        "    <tr>\n",
        "        <td>Dyer</td>\n",
        "        <td>William</td>\n",
        "    </tr>\n",
        "    <tr>\n",
        "        <td>Pabodie</td>\n",
        "        <td>Frank</td>\n",
        "    </tr>\n",
        "    <tr>\n",
        "        <td>Lake</td>\n",
        "        <td>Anderson</td>\n",
        "    </tr>\n",
        "    <tr>\n",
        "        <td>Roerich</td>\n",
        "        <td>Valentina</td>\n",
        "    </tr>\n",
        "    <tr>\n",
        "        <td>Danforth</td>\n",
        "        <td>Frank</td>\n",
        "    </tr>\n",
        "</table>"
       ],
       "metadata": {},
       "output_type": "pyout",
       "prompt_number": 66,
       "text": [
        "[(u'Dyer', u'William'),\n",
        " (u'Pabodie', u'Frank'),\n",
        " (u'Lake', u'Anderson'),\n",
        " (u'Roerich', u'Valentina'),\n",
        " (u'Danforth', u'Frank')]"
       ]
      }
     ],
     "prompt_number": 66
    },
    {
     "cell_type": "code",
     "collapsed": false,
     "input": [
      "%sql select distinct taken, quant from Survey;"
     ],
     "language": "python",
     "metadata": {},
     "outputs": [
      {
       "output_type": "stream",
       "stream": "stdout",
       "text": [
        "Done.\n"
       ]
      },
      {
       "html": [
        "<table>\n",
        "    <tr>\n",
        "        <th>taken</th>\n",
        "        <th>quant</th>\n",
        "    </tr>\n",
        "    <tr>\n",
        "        <td>619</td>\n",
        "        <td>rad</td>\n",
        "    </tr>\n",
        "    <tr>\n",
        "        <td>619</td>\n",
        "        <td>sal</td>\n",
        "    </tr>\n",
        "    <tr>\n",
        "        <td>622</td>\n",
        "        <td>rad</td>\n",
        "    </tr>\n",
        "    <tr>\n",
        "        <td>622</td>\n",
        "        <td>sal</td>\n",
        "    </tr>\n",
        "    <tr>\n",
        "        <td>734</td>\n",
        "        <td>rad</td>\n",
        "    </tr>\n",
        "    <tr>\n",
        "        <td>734</td>\n",
        "        <td>sal</td>\n",
        "    </tr>\n",
        "    <tr>\n",
        "        <td>734</td>\n",
        "        <td>temp</td>\n",
        "    </tr>\n",
        "    <tr>\n",
        "        <td>735</td>\n",
        "        <td>rad</td>\n",
        "    </tr>\n",
        "    <tr>\n",
        "        <td>735</td>\n",
        "        <td>sal</td>\n",
        "    </tr>\n",
        "    <tr>\n",
        "        <td>735</td>\n",
        "        <td>temp</td>\n",
        "    </tr>\n",
        "    <tr>\n",
        "        <td>751</td>\n",
        "        <td>rad</td>\n",
        "    </tr>\n",
        "    <tr>\n",
        "        <td>751</td>\n",
        "        <td>sal</td>\n",
        "    </tr>\n",
        "    <tr>\n",
        "        <td>751</td>\n",
        "        <td>temp</td>\n",
        "    </tr>\n",
        "    <tr>\n",
        "        <td>752</td>\n",
        "        <td>rad</td>\n",
        "    </tr>\n",
        "    <tr>\n",
        "        <td>752</td>\n",
        "        <td>sal</td>\n",
        "    </tr>\n",
        "    <tr>\n",
        "        <td>752</td>\n",
        "        <td>temp</td>\n",
        "    </tr>\n",
        "    <tr>\n",
        "        <td>837</td>\n",
        "        <td>rad</td>\n",
        "    </tr>\n",
        "    <tr>\n",
        "        <td>837</td>\n",
        "        <td>sal</td>\n",
        "    </tr>\n",
        "    <tr>\n",
        "        <td>844</td>\n",
        "        <td>rad</td>\n",
        "    </tr>\n",
        "</table>"
       ],
       "metadata": {},
       "output_type": "pyout",
       "prompt_number": 69,
       "text": [
        "[(619, u'rad'),\n",
        " (619, u'sal'),\n",
        " (622, u'rad'),\n",
        " (622, u'sal'),\n",
        " (734, u'rad'),\n",
        " (734, u'sal'),\n",
        " (734, u'temp'),\n",
        " (735, u'rad'),\n",
        " (735, u'sal'),\n",
        " (735, u'temp'),\n",
        " (751, u'rad'),\n",
        " (751, u'sal'),\n",
        " (751, u'temp'),\n",
        " (752, u'rad'),\n",
        " (752, u'sal'),\n",
        " (752, u'temp'),\n",
        " (837, u'rad'),\n",
        " (837, u'sal'),\n",
        " (844, u'rad')]"
       ]
      }
     ],
     "prompt_number": 69
    },
    {
     "cell_type": "code",
     "collapsed": false,
     "input": [
      "%sql select distinct dated from visited;"
     ],
     "language": "python",
     "metadata": {},
     "outputs": [
      {
       "output_type": "stream",
       "stream": "stdout",
       "text": [
        "Done.\n"
       ]
      },
      {
       "html": [
        "<table>\n",
        "    <tr>\n",
        "        <th>dated</th>\n",
        "    </tr>\n",
        "    <tr>\n",
        "        <td>None</td>\n",
        "    </tr>\n",
        "    <tr>\n",
        "        <td>1927-02-08</td>\n",
        "    </tr>\n",
        "    <tr>\n",
        "        <td>1927-02-10</td>\n",
        "    </tr>\n",
        "    <tr>\n",
        "        <td>1930-01-12</td>\n",
        "    </tr>\n",
        "    <tr>\n",
        "        <td>1930-02-26</td>\n",
        "    </tr>\n",
        "    <tr>\n",
        "        <td>1932-01-14</td>\n",
        "    </tr>\n",
        "    <tr>\n",
        "        <td>1932-03-22</td>\n",
        "    </tr>\n",
        "    <tr>\n",
        "        <td>1939-01-07</td>\n",
        "    </tr>\n",
        "</table>"
       ],
       "metadata": {},
       "output_type": "pyout",
       "prompt_number": 73,
       "text": [
        "[(None,),\n",
        " (u'1927-02-08',),\n",
        " (u'1927-02-10',),\n",
        " (u'1930-01-12',),\n",
        " (u'1930-02-26',),\n",
        " (u'1932-01-14',),\n",
        " (u'1932-03-22',),\n",
        " (u'1939-01-07',)]"
       ]
      }
     ],
     "prompt_number": 73
    },
    {
     "cell_type": "code",
     "collapsed": false,
     "input": [
      "%sql select distinct * from Survey order by taken, person;"
     ],
     "language": "python",
     "metadata": {},
     "outputs": [
      {
       "output_type": "stream",
       "stream": "stdout",
       "text": [
        "Done.\n"
       ]
      },
      {
       "html": [
        "<table>\n",
        "    <tr>\n",
        "        <th>taken</th>\n",
        "        <th>person</th>\n",
        "        <th>quant</th>\n",
        "        <th>reading</th>\n",
        "    </tr>\n",
        "    <tr>\n",
        "        <td>619</td>\n",
        "        <td>dyer</td>\n",
        "        <td>rad</td>\n",
        "        <td>9.82</td>\n",
        "    </tr>\n",
        "    <tr>\n",
        "        <td>619</td>\n",
        "        <td>dyer</td>\n",
        "        <td>sal</td>\n",
        "        <td>0.13</td>\n",
        "    </tr>\n",
        "    <tr>\n",
        "        <td>622</td>\n",
        "        <td>dyer</td>\n",
        "        <td>rad</td>\n",
        "        <td>7.8</td>\n",
        "    </tr>\n",
        "    <tr>\n",
        "        <td>622</td>\n",
        "        <td>dyer</td>\n",
        "        <td>sal</td>\n",
        "        <td>0.09</td>\n",
        "    </tr>\n",
        "    <tr>\n",
        "        <td>734</td>\n",
        "        <td>lake</td>\n",
        "        <td>sal</td>\n",
        "        <td>0.05</td>\n",
        "    </tr>\n",
        "    <tr>\n",
        "        <td>734</td>\n",
        "        <td>pb</td>\n",
        "        <td>rad</td>\n",
        "        <td>8.41</td>\n",
        "    </tr>\n",
        "    <tr>\n",
        "        <td>734</td>\n",
        "        <td>pb</td>\n",
        "        <td>temp</td>\n",
        "        <td>-21.5</td>\n",
        "    </tr>\n",
        "    <tr>\n",
        "        <td>735</td>\n",
        "        <td>None</td>\n",
        "        <td>sal</td>\n",
        "        <td>0.06</td>\n",
        "    </tr>\n",
        "    <tr>\n",
        "        <td>735</td>\n",
        "        <td>None</td>\n",
        "        <td>temp</td>\n",
        "        <td>-26.0</td>\n",
        "    </tr>\n",
        "    <tr>\n",
        "        <td>735</td>\n",
        "        <td>pb</td>\n",
        "        <td>rad</td>\n",
        "        <td>7.22</td>\n",
        "    </tr>\n",
        "    <tr>\n",
        "        <td>751</td>\n",
        "        <td>lake</td>\n",
        "        <td>sal</td>\n",
        "        <td>0.1</td>\n",
        "    </tr>\n",
        "    <tr>\n",
        "        <td>751</td>\n",
        "        <td>pb</td>\n",
        "        <td>rad</td>\n",
        "        <td>4.35</td>\n",
        "    </tr>\n",
        "    <tr>\n",
        "        <td>751</td>\n",
        "        <td>pb</td>\n",
        "        <td>temp</td>\n",
        "        <td>-18.5</td>\n",
        "    </tr>\n",
        "    <tr>\n",
        "        <td>752</td>\n",
        "        <td>lake</td>\n",
        "        <td>rad</td>\n",
        "        <td>2.19</td>\n",
        "    </tr>\n",
        "    <tr>\n",
        "        <td>752</td>\n",
        "        <td>lake</td>\n",
        "        <td>sal</td>\n",
        "        <td>0.09</td>\n",
        "    </tr>\n",
        "    <tr>\n",
        "        <td>752</td>\n",
        "        <td>lake</td>\n",
        "        <td>temp</td>\n",
        "        <td>-16.0</td>\n",
        "    </tr>\n",
        "    <tr>\n",
        "        <td>752</td>\n",
        "        <td>roe</td>\n",
        "        <td>sal</td>\n",
        "        <td>41.6</td>\n",
        "    </tr>\n",
        "    <tr>\n",
        "        <td>837</td>\n",
        "        <td>lake</td>\n",
        "        <td>rad</td>\n",
        "        <td>1.46</td>\n",
        "    </tr>\n",
        "    <tr>\n",
        "        <td>837</td>\n",
        "        <td>lake</td>\n",
        "        <td>sal</td>\n",
        "        <td>0.21</td>\n",
        "    </tr>\n",
        "    <tr>\n",
        "        <td>837</td>\n",
        "        <td>roe</td>\n",
        "        <td>sal</td>\n",
        "        <td>22.5</td>\n",
        "    </tr>\n",
        "    <tr>\n",
        "        <td>844</td>\n",
        "        <td>roe</td>\n",
        "        <td>rad</td>\n",
        "        <td>11.25</td>\n",
        "    </tr>\n",
        "</table>"
       ],
       "metadata": {},
       "output_type": "pyout",
       "prompt_number": 83,
       "text": [
        "[(619, u'dyer', u'rad', 9.82),\n",
        " (619, u'dyer', u'sal', 0.13),\n",
        " (622, u'dyer', u'rad', 7.8),\n",
        " (622, u'dyer', u'sal', 0.09),\n",
        " (734, u'lake', u'sal', 0.05),\n",
        " (734, u'pb', u'rad', 8.41),\n",
        " (734, u'pb', u'temp', -21.5),\n",
        " (735, None, u'sal', 0.06),\n",
        " (735, None, u'temp', -26.0),\n",
        " (735, u'pb', u'rad', 7.22),\n",
        " (751, u'lake', u'sal', 0.1),\n",
        " (751, u'pb', u'rad', 4.35),\n",
        " (751, u'pb', u'temp', -18.5),\n",
        " (752, u'lake', u'rad', 2.19),\n",
        " (752, u'lake', u'sal', 0.09),\n",
        " (752, u'lake', u'temp', -16.0),\n",
        " (752, u'roe', u'sal', 41.6),\n",
        " (837, u'lake', u'rad', 1.46),\n",
        " (837, u'lake', u'sal', 0.21),\n",
        " (837, u'roe', u'sal', 22.5),\n",
        " (844, u'roe', u'rad', 11.25)]"
       ]
      }
     ],
     "prompt_number": 83
    },
    {
     "cell_type": "code",
     "collapsed": false,
     "input": [
      "%sql select distinct dated from Visited; "
     ],
     "language": "python",
     "metadata": {},
     "outputs": [
      {
       "output_type": "stream",
       "stream": "stdout",
       "text": [
        "Done.\n"
       ]
      },
      {
       "html": [
        "<table>\n",
        "    <tr>\n",
        "        <th>dated</th>\n",
        "    </tr>\n",
        "    <tr>\n",
        "        <td>None</td>\n",
        "    </tr>\n",
        "    <tr>\n",
        "        <td>1927-02-08</td>\n",
        "    </tr>\n",
        "    <tr>\n",
        "        <td>1927-02-10</td>\n",
        "    </tr>\n",
        "    <tr>\n",
        "        <td>1930-01-12</td>\n",
        "    </tr>\n",
        "    <tr>\n",
        "        <td>1930-02-26</td>\n",
        "    </tr>\n",
        "    <tr>\n",
        "        <td>1932-01-14</td>\n",
        "    </tr>\n",
        "    <tr>\n",
        "        <td>1932-03-22</td>\n",
        "    </tr>\n",
        "    <tr>\n",
        "        <td>1939-01-07</td>\n",
        "    </tr>\n",
        "</table>"
       ],
       "metadata": {},
       "output_type": "pyout",
       "prompt_number": 86,
       "text": [
        "[(None,),\n",
        " (u'1927-02-08',),\n",
        " (u'1927-02-10',),\n",
        " (u'1930-01-12',),\n",
        " (u'1930-02-26',),\n",
        " (u'1932-01-14',),\n",
        " (u'1932-03-22',),\n",
        " (u'1939-01-07',)]"
       ]
      }
     ],
     "prompt_number": 86
    },
    {
     "cell_type": "code",
     "collapsed": false,
     "input": [
      "%sql select "
     ],
     "language": "python",
     "metadata": {},
     "outputs": []
    }
   ],
   "metadata": {}
  }
 ]
}